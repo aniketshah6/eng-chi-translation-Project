{
 "cells": [
  {
   "cell_type": "code",
   "execution_count": 3,
   "id": "0af33a18-e2e4-48ca-8fa0-9b335fb56540",
   "metadata": {},
   "outputs": [
    {
     "name": "stdout",
     "output_type": "stream",
     "text": [
      "10000 total pairs\n",
      "8000 training pairs\n",
      "2000 test pairs\n"
     ]
    }
   ],
   "source": [
    "'''This heavily borrows the example \"English-to-Spanish translation with \n",
    "a sequence-to-sequence Transformer\" by fchollet, from the keras github page, \n",
    "which you can find here: https://github.com/keras-team/keras-io/blob/master/examples/nlp/neural_machine_translation_with_transformer.py'''\n",
    "\n",
    "import pathlib\n",
    "import random\n",
    "import string\n",
    "import re\n",
    "import numpy as np\n",
    "import tensorflow as tf\n",
    "from tensorflow import keras\n",
    "from tensorflow.keras import layers\n",
    "from tensorflow.keras.layers import TextVectorization\n",
    "\n",
    "import matplotlib.pyplot as plt         #for visualizing\n",
    "\n",
    "import pandas as pd\n",
    "from bs4 import BeautifulSoup\n",
    "\n",
    "#Here, we import a csv of parallel text from https://corpus.eduhk.hk/paraconc/\n",
    "#besides some lines at the beginning and end, a typical line in this csv looks like\n",
    "#the following: \n",
    "                #\"Alice in Wonderland / 愛麗絲夢遊仙境In another moment down went Alice after \n",
    "                #it, never once considering how in the world she was to get out again.不一會\n",
    "                #兒﹐愛麗絲也跟著鑽了進去﹐根本沒想過以後怎樣出來。\"\n",
    "    \n",
    "data = pd.read_csv('parallel-results.csv')\n",
    "data = data[:-1]\n",
    "\n",
    "#to avoid having to work with pandas consistently, and to clean html tages from the text, \n",
    "#we make the following arrays\n",
    "zh = []\n",
    "eng = []\n",
    "for i in range(0,len(data['eng-zh-html'])):\n",
    "    eng.append(BeautifulSoup(data['eng-zh-html'][i]).find_all('td')[1].string)\n",
    "    zh.append(BeautifulSoup(data['eng-zh-html'][i]).find_all('td')[2].string)\n",
    "    \n",
    "#then, pair the text\n",
    "text_pairs = []\n",
    "\n",
    "for i in range(0,10000):\n",
    "    cur_eng = eng[i]\n",
    "    cur_zh = zh[i]\n",
    "    #the tokenizer will break on spaces, which are not naturally part of chinese text, so we add them\n",
    "    #as well as start and end tokens for training\n",
    "    cur_zh = \"[start] \" + \" \".join([*cur_zh]) + \" [end]\" \n",
    "    text_pairs.append((cur_eng, cur_zh))\n",
    "    \n",
    "#now we make a train-test split\n",
    "random.shuffle(text_pairs)\n",
    "num_val_samples = int(0.2 * len(text_pairs))\n",
    "num_train_samples = len(text_pairs) - num_val_samples\n",
    "train_pairs = text_pairs[:num_train_samples]\n",
    "val_pairs = text_pairs[num_train_samples : ]\n",
    "\n",
    "print(f\"{len(text_pairs)} total pairs\")\n",
    "print(f\"{len(train_pairs)} training pairs\")\n",
    "print(f\"{len(val_pairs)} test pairs\")"
   ]
  },
  {
   "cell_type": "code",
   "execution_count": 4,
   "id": "3994e267-8d74-4ae0-8b88-6d31f5002904",
   "metadata": {},
   "outputs": [
    {
     "name": "stderr",
     "output_type": "stream",
     "text": [
      "2023-03-02 11:58:17.093397: I tensorflow/core/platform/cpu_feature_guard.cc:151] This TensorFlow binary is optimized with oneAPI Deep Neural Network Library (oneDNN) to use the following CPU instructions in performance-critical operations:  AVX2 AVX512F FMA\n",
      "To enable them in other operations, rebuild TensorFlow with the appropriate compiler flags.\n"
     ]
    }
   ],
   "source": [
    "#vectorizing text:\n",
    "\n",
    "#for english to be tokenized, it seems one approach is to strip punctuation and split on\n",
    "#spaces. this is the standard vectorization and we leave it that way\n",
    "#for chinese, since we inserted spaces we can also use the standard vectorization and\n",
    "#tokenize every character, including punctuation\n",
    "strip_chars = string.punctuation + \"¿\"\n",
    "strip_chars = strip_chars.replace(\"[\", \"\")\n",
    "strip_chars = strip_chars.replace(\"]\", \"\")\n",
    "\n",
    "vocab_size = 15000\n",
    "sequence_length = 20\n",
    "batch_size = 64\n",
    "\n",
    "eng_vectorization = TextVectorization(\n",
    "    max_tokens=vocab_size,\n",
    "    output_mode=\"int\",\n",
    "    output_sequence_length=sequence_length,\n",
    ")\n",
    "zh_vectorization = TextVectorization(\n",
    "    max_tokens=vocab_size,\n",
    "    output_mode=\"int\",\n",
    "    output_sequence_length=sequence_length + 1\n",
    ")\n",
    "train_eng_texts = [pair[0] for pair in train_pairs]\n",
    "train_zh_texts = [pair[1] for pair in train_pairs]\n",
    "eng_vectorization.adapt(train_eng_texts)\n",
    "zh_vectorization.adapt(train_zh_texts)\n",
    "\n",
    "\n",
    "#Formatting datasets. This is exactly as in the keras example:\n",
    "\n",
    "def format_dataset(eng, zh):\n",
    "    eng = eng_vectorization(eng)\n",
    "    zh = zh_vectorization(zh)\n",
    "    return (\n",
    "        {\n",
    "            \"encoder_inputs\": eng,\n",
    "            \"decoder_inputs\": zh[:, :-1],\n",
    "        },\n",
    "        zh[:, 1:],\n",
    "    )\n",
    "\n",
    "def make_dataset(pairs):\n",
    "    eng_texts, zh_texts = zip(*pairs)\n",
    "    eng_texts = list(eng_texts)\n",
    "    zh_texts = list(zh_texts)\n",
    "    dataset = tf.data.Dataset.from_tensor_slices((eng_texts, zh_texts))\n",
    "    dataset = dataset.batch(batch_size)\n",
    "    dataset = dataset.map(format_dataset)\n",
    "    return dataset.shuffle(2048).prefetch(16).cache()\n",
    "\n",
    "\n",
    "train_ds = make_dataset(train_pairs)\n",
    "val_ds = make_dataset(val_pairs)"
   ]
  },
  {
   "cell_type": "code",
   "execution_count": 5,
   "id": "f2592e28-0e96-4ef7-bb39-4adff776f5e8",
   "metadata": {},
   "outputs": [],
   "source": [
    "#Defining the model. This is exactly as in the keras example:\n",
    "\n",
    "class TransformerEncoder(layers.Layer):\n",
    "    def __init__(self, embed_dim, dense_dim, num_heads, **kwargs):\n",
    "        super().__init__(**kwargs)\n",
    "        self.embed_dim = embed_dim\n",
    "        self.dense_dim = dense_dim\n",
    "        self.num_heads = num_heads\n",
    "        self.attention = layers.MultiHeadAttention(\n",
    "            num_heads=num_heads, key_dim=embed_dim\n",
    "        )\n",
    "        self.dense_proj = keras.Sequential(\n",
    "            [\n",
    "                layers.Dense(dense_dim, activation=\"relu\"),\n",
    "                layers.Dense(embed_dim),\n",
    "            ]\n",
    "        )\n",
    "        self.layernorm_1 = layers.LayerNormalization()\n",
    "        self.layernorm_2 = layers.LayerNormalization()\n",
    "        self.supports_masking = True\n",
    "\n",
    "    def call(self, inputs, mask=None):\n",
    "        if mask is not None:\n",
    "            padding_mask = tf.cast(mask[:, tf.newaxis, tf.newaxis, :], dtype=\"int32\")\n",
    "        attention_output = self.attention(\n",
    "            query=inputs, value=inputs, key=inputs, attention_mask=padding_mask\n",
    "        )\n",
    "        proj_input = self.layernorm_1(inputs + attention_output)\n",
    "        proj_output = self.dense_proj(proj_input)\n",
    "        return self.layernorm_2(proj_input + proj_output)\n",
    "\n",
    "    def get_config(self):\n",
    "        config = super().get_config()\n",
    "        config.update(\n",
    "            {\n",
    "                \"embed_dim\": self.embed_dim,\n",
    "                \"dense_dim\": self.dense_dim,\n",
    "                \"num_heads\": self.num_heads,\n",
    "            }\n",
    "        )\n",
    "        return config\n",
    "\n",
    "\n",
    "class PositionalEmbedding(layers.Layer):\n",
    "    def __init__(self, sequence_length, vocab_size, embed_dim, **kwargs):\n",
    "        super().__init__(**kwargs)\n",
    "        self.token_embeddings = layers.Embedding(\n",
    "            input_dim=vocab_size, output_dim=embed_dim\n",
    "        )\n",
    "        self.position_embeddings = layers.Embedding(\n",
    "            input_dim=sequence_length, output_dim=embed_dim\n",
    "        )\n",
    "        self.sequence_length = sequence_length\n",
    "        self.vocab_size = vocab_size\n",
    "        self.embed_dim = embed_dim\n",
    "\n",
    "    def call(self, inputs):\n",
    "        length = tf.shape(inputs)[-1]\n",
    "        positions = tf.range(start=0, limit=length, delta=1)\n",
    "        embedded_tokens = self.token_embeddings(inputs)\n",
    "        embedded_positions = self.position_embeddings(positions)\n",
    "        return embedded_tokens + embedded_positions\n",
    "\n",
    "    def compute_mask(self, inputs, mask=None):\n",
    "        return tf.math.not_equal(inputs, 0)\n",
    "\n",
    "    def get_config(self):\n",
    "        config = super().get_config()\n",
    "        config.update(\n",
    "            {\n",
    "                \"sequence_length\": self.sequence_length,\n",
    "                \"vocab_size\": self.vocab_size,\n",
    "                \"embed_dim\": self.embed_dim,\n",
    "            }\n",
    "        )\n",
    "        return config\n",
    "\n",
    "\n",
    "class TransformerDecoder(layers.Layer):\n",
    "    def __init__(self, embed_dim, latent_dim, num_heads, **kwargs):\n",
    "        super().__init__(**kwargs)\n",
    "        self.embed_dim = embed_dim\n",
    "        self.latent_dim = latent_dim\n",
    "        self.num_heads = num_heads\n",
    "        self.attention_1 = layers.MultiHeadAttention(\n",
    "            num_heads=num_heads, key_dim=embed_dim\n",
    "        )\n",
    "        self.attention_2 = layers.MultiHeadAttention(\n",
    "            num_heads=num_heads, key_dim=embed_dim\n",
    "        )\n",
    "        self.dense_proj = keras.Sequential(\n",
    "            [\n",
    "                layers.Dense(latent_dim, activation=\"relu\"),\n",
    "                layers.Dense(embed_dim),\n",
    "            ]\n",
    "        )\n",
    "        self.layernorm_1 = layers.LayerNormalization()\n",
    "        self.layernorm_2 = layers.LayerNormalization()\n",
    "        self.layernorm_3 = layers.LayerNormalization()\n",
    "        self.supports_masking = True\n",
    "\n",
    "    def call(self, inputs, encoder_outputs, mask=None):\n",
    "        causal_mask = self.get_causal_attention_mask(inputs)\n",
    "        if mask is not None:\n",
    "            padding_mask = tf.cast(mask[:, tf.newaxis, :], dtype=\"int32\")\n",
    "            padding_mask = tf.minimum(padding_mask, causal_mask)\n",
    "\n",
    "        attention_output_1 = self.attention_1(\n",
    "            query=inputs, value=inputs, key=inputs, attention_mask=causal_mask\n",
    "        )\n",
    "        out_1 = self.layernorm_1(inputs + attention_output_1)\n",
    "\n",
    "        attention_output_2 = self.attention_2(\n",
    "            query=out_1,\n",
    "            value=encoder_outputs,\n",
    "            key=encoder_outputs,\n",
    "            attention_mask=padding_mask,\n",
    "        )\n",
    "        out_2 = self.layernorm_2(out_1 + attention_output_2)\n",
    "\n",
    "        proj_output = self.dense_proj(out_2)\n",
    "        return self.layernorm_3(out_2 + proj_output)\n",
    "\n",
    "    def get_causal_attention_mask(self, inputs):\n",
    "        input_shape = tf.shape(inputs)\n",
    "        batch_size, sequence_length = input_shape[0], input_shape[1]\n",
    "        i = tf.range(sequence_length)[:, tf.newaxis]\n",
    "        j = tf.range(sequence_length)\n",
    "        mask = tf.cast(i >= j, dtype=\"int32\")\n",
    "        mask = tf.reshape(mask, (1, input_shape[1], input_shape[1]))\n",
    "        mult = tf.concat(\n",
    "            [tf.expand_dims(batch_size, -1), tf.constant([1, 1], dtype=tf.int32)],\n",
    "            axis=0,\n",
    "        )\n",
    "        return tf.tile(mask, mult)\n",
    "\n",
    "    def get_config(self):\n",
    "        config = super().get_config()\n",
    "        config.update(\n",
    "            {\n",
    "                \"embed_dim\": self.embed_dim,\n",
    "                \"latent_dim\": self.latent_dim,\n",
    "                \"num_heads\": self.num_heads,\n",
    "            }\n",
    "        )\n",
    "        return config\n",
    "\n",
    "#then, the actual model using the classes defined above is\n",
    "\n",
    "embed_dim = 256\n",
    "latent_dim = 2048\n",
    "num_heads = 8\n",
    "\n",
    "encoder_inputs = keras.Input(shape=(None,), dtype=\"int64\", name=\"encoder_inputs\")\n",
    "x = PositionalEmbedding(sequence_length, vocab_size, embed_dim)(encoder_inputs)\n",
    "encoder_outputs = TransformerEncoder(embed_dim, latent_dim, num_heads)(x)\n",
    "encoder = keras.Model(encoder_inputs, encoder_outputs)\n",
    "\n",
    "decoder_inputs = keras.Input(shape=(None,), dtype=\"int64\", name=\"decoder_inputs\")\n",
    "encoded_seq_inputs = keras.Input(shape=(None, embed_dim), name=\"decoder_state_inputs\")\n",
    "x = PositionalEmbedding(sequence_length, vocab_size, embed_dim)(decoder_inputs)\n",
    "x = TransformerDecoder(embed_dim, latent_dim, num_heads)(x, encoded_seq_inputs)\n",
    "x = layers.Dropout(0.5)(x)\n",
    "decoder_outputs = layers.Dense(vocab_size, activation=\"softmax\")(x)\n",
    "decoder = keras.Model([decoder_inputs, encoded_seq_inputs], decoder_outputs)\n",
    "\n",
    "decoder_outputs = decoder([decoder_inputs, encoder_outputs])\n",
    "transformer = keras.Model(\n",
    "    [encoder_inputs, decoder_inputs], decoder_outputs, name=\"transformer\"\n",
    ")"
   ]
  },
  {
   "cell_type": "code",
   "execution_count": 6,
   "id": "85a10597-0361-4bc3-8cdb-6b40667f8670",
   "metadata": {},
   "outputs": [
    {
     "name": "stdout",
     "output_type": "stream",
     "text": [
      "Model: \"transformer\"\n",
      "__________________________________________________________________________________________________\n",
      " Layer (type)                   Output Shape         Param #     Connected to                     \n",
      "==================================================================================================\n",
      " encoder_inputs (InputLayer)    [(None, None)]       0           []                               \n",
      "                                                                                                  \n",
      " positional_embedding (Position  (None, None, 256)   3845120     ['encoder_inputs[0][0]']         \n",
      " alEmbedding)                                                                                     \n",
      "                                                                                                  \n",
      " decoder_inputs (InputLayer)    [(None, None)]       0           []                               \n",
      "                                                                                                  \n",
      " transformer_encoder (Transform  (None, None, 256)   3155456     ['positional_embedding[0][0]']   \n",
      " erEncoder)                                                                                       \n",
      "                                                                                                  \n",
      " model_1 (Functional)           (None, None, 15000)  12959640    ['decoder_inputs[0][0]',         \n",
      "                                                                  'transformer_encoder[0][0]']    \n",
      "                                                                                                  \n",
      "==================================================================================================\n",
      "Total params: 19,960,216\n",
      "Trainable params: 19,960,216\n",
      "Non-trainable params: 0\n",
      "__________________________________________________________________________________________________\n",
      "Epoch 1/20\n",
      "125/125 [==============================] - ETA: 0s - loss: 5.0695 - accuracy: 0.1577\n",
      "Epoch 1: val_loss improved from inf to 4.12100, saving model to checkplz\n"
     ]
    },
    {
     "name": "stderr",
     "output_type": "stream",
     "text": [
      "2023-03-02 12:05:19.228583: W tensorflow/python/util/util.cc:368] Sets are not currently considered sequences, but this may change in the future, so consider avoiding using them.\n",
      "WARNING:absl:Found untraced functions such as embedding_layer_call_fn, embedding_layer_call_and_return_conditional_losses, embedding_1_layer_call_fn, embedding_1_layer_call_and_return_conditional_losses, multi_head_attention_layer_call_fn while saving (showing 5 of 60). These functions will not be directly callable after loading.\n"
     ]
    },
    {
     "name": "stdout",
     "output_type": "stream",
     "text": [
      "INFO:tensorflow:Assets written to: checkplz/assets\n"
     ]
    },
    {
     "name": "stderr",
     "output_type": "stream",
     "text": [
      "INFO:tensorflow:Assets written to: checkplz/assets\n"
     ]
    },
    {
     "name": "stdout",
     "output_type": "stream",
     "text": [
      "125/125 [==============================] - 424s 3s/step - loss: 5.0695 - accuracy: 0.1577 - val_loss: 4.1210 - val_accuracy: 0.2580 - lr: 0.0010\n",
      "Epoch 2/20\n",
      "125/125 [==============================] - ETA: 0s - loss: 3.8195 - accuracy: 0.2862\n",
      "Epoch 2: val_loss improved from 4.12100 to 3.69891, saving model to checkplz\n"
     ]
    },
    {
     "name": "stderr",
     "output_type": "stream",
     "text": [
      "WARNING:absl:Found untraced functions such as embedding_layer_call_fn, embedding_layer_call_and_return_conditional_losses, embedding_1_layer_call_fn, embedding_1_layer_call_and_return_conditional_losses, multi_head_attention_layer_call_fn while saving (showing 5 of 60). These functions will not be directly callable after loading.\n"
     ]
    },
    {
     "name": "stdout",
     "output_type": "stream",
     "text": [
      "INFO:tensorflow:Assets written to: checkplz/assets\n"
     ]
    },
    {
     "name": "stderr",
     "output_type": "stream",
     "text": [
      "INFO:tensorflow:Assets written to: checkplz/assets\n"
     ]
    },
    {
     "name": "stdout",
     "output_type": "stream",
     "text": [
      "125/125 [==============================] - 374s 3s/step - loss: 3.8195 - accuracy: 0.2862 - val_loss: 3.6989 - val_accuracy: 0.3015 - lr: 0.0010\n",
      "Epoch 3/20\n",
      "125/125 [==============================] - ETA: 0s - loss: 3.4246 - accuracy: 0.3289\n",
      "Epoch 3: val_loss improved from 3.69891 to 3.55299, saving model to checkplz\n"
     ]
    },
    {
     "name": "stderr",
     "output_type": "stream",
     "text": [
      "WARNING:absl:Found untraced functions such as embedding_layer_call_fn, embedding_layer_call_and_return_conditional_losses, embedding_1_layer_call_fn, embedding_1_layer_call_and_return_conditional_losses, multi_head_attention_layer_call_fn while saving (showing 5 of 60). These functions will not be directly callable after loading.\n"
     ]
    },
    {
     "name": "stdout",
     "output_type": "stream",
     "text": [
      "INFO:tensorflow:Assets written to: checkplz/assets\n"
     ]
    },
    {
     "name": "stderr",
     "output_type": "stream",
     "text": [
      "INFO:tensorflow:Assets written to: checkplz/assets\n"
     ]
    },
    {
     "name": "stdout",
     "output_type": "stream",
     "text": [
      "125/125 [==============================] - 387s 3s/step - loss: 3.4246 - accuracy: 0.3289 - val_loss: 3.5530 - val_accuracy: 0.3187 - lr: 0.0010\n",
      "Epoch 4/20\n",
      "125/125 [==============================] - ETA: 0s - loss: 3.1733 - accuracy: 0.3549\n",
      "Epoch 4: val_loss improved from 3.55299 to 3.51500, saving model to checkplz\n"
     ]
    },
    {
     "name": "stderr",
     "output_type": "stream",
     "text": [
      "WARNING:absl:Found untraced functions such as embedding_layer_call_fn, embedding_layer_call_and_return_conditional_losses, embedding_1_layer_call_fn, embedding_1_layer_call_and_return_conditional_losses, multi_head_attention_layer_call_fn while saving (showing 5 of 60). These functions will not be directly callable after loading.\n"
     ]
    },
    {
     "name": "stdout",
     "output_type": "stream",
     "text": [
      "INFO:tensorflow:Assets written to: checkplz/assets\n"
     ]
    },
    {
     "name": "stderr",
     "output_type": "stream",
     "text": [
      "INFO:tensorflow:Assets written to: checkplz/assets\n"
     ]
    },
    {
     "name": "stdout",
     "output_type": "stream",
     "text": [
      "125/125 [==============================] - 301s 2s/step - loss: 3.1733 - accuracy: 0.3549 - val_loss: 3.5150 - val_accuracy: 0.3230 - lr: 0.0010\n",
      "Epoch 5/20\n",
      "125/125 [==============================] - ETA: 0s - loss: 2.9678 - accuracy: 0.3783\n",
      "Epoch 5: val_loss improved from 3.51500 to 3.48010, saving model to checkplz\n"
     ]
    },
    {
     "name": "stderr",
     "output_type": "stream",
     "text": [
      "WARNING:absl:Found untraced functions such as embedding_layer_call_fn, embedding_layer_call_and_return_conditional_losses, embedding_1_layer_call_fn, embedding_1_layer_call_and_return_conditional_losses, multi_head_attention_layer_call_fn while saving (showing 5 of 60). These functions will not be directly callable after loading.\n"
     ]
    },
    {
     "name": "stdout",
     "output_type": "stream",
     "text": [
      "INFO:tensorflow:Assets written to: checkplz/assets\n"
     ]
    },
    {
     "name": "stderr",
     "output_type": "stream",
     "text": [
      "INFO:tensorflow:Assets written to: checkplz/assets\n"
     ]
    },
    {
     "name": "stdout",
     "output_type": "stream",
     "text": [
      "125/125 [==============================] - 296s 2s/step - loss: 2.9678 - accuracy: 0.3783 - val_loss: 3.4801 - val_accuracy: 0.3297 - lr: 0.0010\n",
      "Epoch 6/20\n",
      "125/125 [==============================] - ETA: 0s - loss: 2.7853 - accuracy: 0.4027\n",
      "Epoch 6: val_loss did not improve from 3.48010\n",
      "125/125 [==============================] - 275s 2s/step - loss: 2.7853 - accuracy: 0.4027 - val_loss: 3.5119 - val_accuracy: 0.3320 - lr: 0.0010\n",
      "Epoch 7/20\n",
      "125/125 [==============================] - ETA: 0s - loss: 2.6076 - accuracy: 0.4261\n",
      "Epoch 7: val_loss did not improve from 3.48010\n",
      "125/125 [==============================] - 280s 2s/step - loss: 2.6076 - accuracy: 0.4261 - val_loss: 3.5266 - val_accuracy: 0.3384 - lr: 0.0010\n",
      "Epoch 8/20\n",
      "125/125 [==============================] - ETA: 0s - loss: 2.4232 - accuracy: 0.4542\n",
      "Epoch 8: val_loss did not improve from 3.48010\n",
      "125/125 [==============================] - 279s 2s/step - loss: 2.4232 - accuracy: 0.4542 - val_loss: 3.5953 - val_accuracy: 0.3382 - lr: 0.0010\n",
      "Epoch 9/20\n",
      "125/125 [==============================] - ETA: 0s - loss: 2.2372 - accuracy: 0.4835\n",
      "Epoch 9: val_loss did not improve from 3.48010\n",
      "125/125 [==============================] - 403s 3s/step - loss: 2.2372 - accuracy: 0.4835 - val_loss: 3.7101 - val_accuracy: 0.3334 - lr: 0.0010\n",
      "Epoch 10/20\n",
      "125/125 [==============================] - ETA: 0s - loss: 2.0540 - accuracy: 0.5154\n",
      "Epoch 10: val_loss did not improve from 3.48010\n",
      "125/125 [==============================] - 398s 3s/step - loss: 2.0540 - accuracy: 0.5154 - val_loss: 3.7840 - val_accuracy: 0.3286 - lr: 0.0010\n",
      "Epoch 11/20\n",
      "125/125 [==============================] - ETA: 0s - loss: 1.8844 - accuracy: 0.5455\n",
      "Epoch 11: val_loss did not improve from 3.48010\n",
      "125/125 [==============================] - 263s 2s/step - loss: 1.8844 - accuracy: 0.5455 - val_loss: 3.8700 - val_accuracy: 0.3275 - lr: 0.0010\n",
      "Epoch 12/20\n",
      "125/125 [==============================] - ETA: 0s - loss: 1.7282 - accuracy: 0.5738\n",
      "Epoch 12: val_loss did not improve from 3.48010\n",
      "125/125 [==============================] - 254s 2s/step - loss: 1.7282 - accuracy: 0.5738 - val_loss: 3.9981 - val_accuracy: 0.3261 - lr: 0.0010\n",
      "Epoch 13/20\n",
      "125/125 [==============================] - ETA: 0s - loss: 1.5713 - accuracy: 0.6036\n",
      "Epoch 13: val_loss did not improve from 3.48010\n",
      "125/125 [==============================] - 245s 2s/step - loss: 1.5713 - accuracy: 0.6036 - val_loss: 4.0841 - val_accuracy: 0.3229 - lr: 0.0010\n",
      "Epoch 14/20\n",
      "125/125 [==============================] - ETA: 0s - loss: 1.4398 - accuracy: 0.6285\n",
      "Epoch 14: val_loss did not improve from 3.48010\n",
      "125/125 [==============================] - 246s 2s/step - loss: 1.4398 - accuracy: 0.6285 - val_loss: 4.1730 - val_accuracy: 0.3275 - lr: 0.0010\n",
      "Epoch 15/20\n",
      "125/125 [==============================] - ETA: 0s - loss: 1.2807 - accuracy: 0.6629\n",
      "Epoch 15: val_loss did not improve from 3.48010\n",
      "125/125 [==============================] - 246s 2s/step - loss: 1.2807 - accuracy: 0.6629 - val_loss: 4.2755 - val_accuracy: 0.3287 - lr: 0.0010\n",
      "Epoch 16/20\n",
      "125/125 [==============================] - ETA: 0s - loss: 1.1387 - accuracy: 0.6938\n",
      "Epoch 16: val_loss did not improve from 3.48010\n",
      "125/125 [==============================] - 246s 2s/step - loss: 1.1387 - accuracy: 0.6938 - val_loss: 4.4352 - val_accuracy: 0.3277 - lr: 0.0010\n",
      "Epoch 17/20\n",
      "125/125 [==============================] - ETA: 0s - loss: 1.0123 - accuracy: 0.7222\n",
      "Epoch 17: val_loss did not improve from 3.48010\n",
      "125/125 [==============================] - 249s 2s/step - loss: 1.0123 - accuracy: 0.7222 - val_loss: 4.5827 - val_accuracy: 0.3289 - lr: 0.0010\n",
      "Epoch 18/20\n",
      "125/125 [==============================] - ETA: 0s - loss: 0.8971 - accuracy: 0.7482\n",
      "Epoch 18: val_loss did not improve from 3.48010\n",
      "125/125 [==============================] - 244s 2s/step - loss: 0.8971 - accuracy: 0.7482 - val_loss: 4.8002 - val_accuracy: 0.3178 - lr: 0.0010\n",
      "Epoch 19/20\n",
      "125/125 [==============================] - ETA: 0s - loss: 0.8097 - accuracy: 0.7684\n",
      "Epoch 19: val_loss did not improve from 3.48010\n",
      "125/125 [==============================] - 245s 2s/step - loss: 0.8097 - accuracy: 0.7684 - val_loss: 4.9179 - val_accuracy: 0.3183 - lr: 0.0010\n",
      "Epoch 20/20\n",
      "125/125 [==============================] - ETA: 0s - loss: 0.7298 - accuracy: 0.7887\n",
      "Epoch 20: val_loss did not improve from 3.48010\n",
      "125/125 [==============================] - 245s 2s/step - loss: 0.7298 - accuracy: 0.7887 - val_loss: 5.0201 - val_accuracy: 0.3204 - lr: 0.0010\n"
     ]
    }
   ],
   "source": [
    "#training the model: here, we add some callbacks compared with the keras example to monitor training\n",
    "\n",
    "from keras.callbacks import ModelCheckpoint, ReduceLROnPlateau\n",
    "#checkpoint to save the best model\n",
    "checkpoint = ModelCheckpoint(filepath=\"checkplz\",\n",
    "                             monitor='val_loss',\n",
    "                             verbose=1, \n",
    "                             save_best_only=True,\n",
    "                             mode='min')\n",
    "\n",
    "#decrease lr on plateau\n",
    "reduce_lr = ReduceLROnPlateau(monitor='val_loss', factor=0.2,\n",
    "                              patience=5, min_lr=0.001)\n",
    "\n",
    "callbacks = [checkpoint,reduce_lr]\n",
    "\n",
    "epochs = 20  # This should be at least 30 for convergence\n",
    "\n",
    "#reducing learning rate with adam\n",
    "transformer.summary()\n",
    "transformer.compile(\n",
    "    loss=\"sparse_categorical_crossentropy\", metrics=[\"accuracy\"], \n",
    "    optimizer = \"adam\"\n",
    ")\n",
    "\n",
    "history = transformer.fit(train_ds, epochs=epochs, validation_data=val_ds, callbacks = callbacks)"
   ]
  },
  {
   "cell_type": "code",
   "execution_count": 9,
   "id": "f531386a-3e16-43be-9081-a054250eb13a",
   "metadata": {},
   "outputs": [
    {
     "name": "stdout",
     "output_type": "stream",
     "text": [
      "Accounting practices change too rapidly to be frozen in legislation.\n",
      "[start] 霹 靂 要 求 實 行 ， 以 相 當 處 理 由 於 公 司 的 法 律 制\n",
      "- and Mithers himself came into the room where I was waiting for her - THERE'S a man!\n",
      "[start] 米 考 伯 太 太 就 出 了 個 房 間 挨 得 很 長 的 那 個 侍 者\n",
      "(h) providing alternative forms for the constitution of a company.\n",
      "[start] 週 內 部 份 基 本 法 例 如 同 時 內 ； end  。 過 章 end end\n",
      "'Gee up, Dobbin,\n",
      "[start] 往 前 跑 哇 ， 達 賓 end  過 。 end end 。 end 。 end end 。 end\n",
      "I was in the middle state between sleeping and waking, either then or immediately afterwards;\n",
      "[start] 然 而 我 是 在 中 央 有 惡 量 學 校 裏 ， 也 不 過 功 課 之\n",
      "'No,' I answered.\n",
      "[start] “ 不 ， ” 我 答 道 。 end  。 end 。 end 。 end 人 end 。 end\n",
      "\"My dear, I think I am dying.\"\n",
      "[start] 我 親 愛 的 是 個 她 親 愛 的 。 end  生 了 。 她 道 end 。\n",
      "What ravages I committed on my favourite authors in the course of my interpretation of them, I am not in a condition to say, and should be very unwilling to know;\n",
      "[start] 我 自 己 也 忍 受 人 ， 懷 著 我 傷 心 ， 把 懷 著 懷 著 我\n",
      "After which he borrowed a shilling of me for porter, gave me a written order on Mrs. Micawber for the amount, and put away his pocket-handkerchief, and cheered up.\n",
      "[start] 每 次 他 一 個 先 令 使 我 一 個 先 令 給 了 一 個 勁 無 追\n",
      "On the other hand, creditors must be protected and existing shareholders given the benefit of their bargain.\n",
      "[start] 雖 然 他 的 債 主 意 人 的 利 益 ， 由 於 對 於 為 手 套 訂\n"
     ]
    }
   ],
   "source": [
    "#decoding sentences: this is exactly as in the keras example\n",
    "\n",
    "zh_vocab = zh_vectorization.get_vocabulary()\n",
    "zh_index_lookup = dict(zip(range(len(zh_vocab)), zh_vocab))\n",
    "max_decoded_sentence_length = 20\n",
    "\n",
    "\n",
    "def decode_sequence(input_sentence):\n",
    "    tokenized_input_sentence = eng_vectorization([input_sentence])\n",
    "    decoded_sentence = \"[start]\"\n",
    "    for i in range(max_decoded_sentence_length):\n",
    "        tokenized_target_sentence = zh_vectorization([decoded_sentence])[:, :-1]\n",
    "        predictions = transformer([tokenized_input_sentence, tokenized_target_sentence])\n",
    "\n",
    "        sampled_token_index = np.argmax(predictions[0, i, :])\n",
    "        sampled_token = zh_index_lookup[sampled_token_index]\n",
    "        decoded_sentence += \" \" + sampled_token\n",
    "\n",
    "        if sampled_token == \"[end]\":\n",
    "            break\n",
    "    return decoded_sentence\n",
    "\n",
    "val_eng_texts = [pair[0] for pair in val_pairs]\n",
    "\n",
    "for _ in range(10):\n",
    "    input_sentence = random.choice(val_eng_texts)\n",
    "    translated = decode_sequence(input_sentence)\n",
    "    print(input_sentence)\n",
    "    print(translated)"
   ]
  },
  {
   "cell_type": "code",
   "execution_count": 10,
   "id": "df90e73e-196d-4905-a882-4d32af15a813",
   "metadata": {},
   "outputs": [
    {
     "data": {
      "image/png": "[encoded data removed]",
      "text/plain": [
       "<Figure size 640x480 with 1 Axes>"
      ]
     },
     "metadata": {},
     "output_type": "display_data"
    },
    {
     "data": {
      "image/png": "[encoded data removed]",
      "text/plain": [
       "<Figure size 640x480 with 1 Axes>"
      ]
     },
     "metadata": {},
     "output_type": "display_data"
    }
   ],
   "source": [
    "#plotting metrics\n",
    "\n",
    "# summarize history for accuracy\n",
    "plt.plot(history.history['accuracy'])\n",
    "plt.plot(history.history['val_accuracy'])\n",
    "plt.title('model accuracy')\n",
    "plt.ylabel('accuracy')\n",
    "plt.xlabel('epoch')\n",
    "plt.legend(['train', 'test'], loc='upper left')\n",
    "plt.show()\n",
    "# summarize history for loss\n",
    "plt.plot(history.history['loss'])\n",
    "plt.plot(history.history['val_loss'])\n",
    "plt.title('model loss')\n",
    "plt.ylabel('loss')\n",
    "plt.xlabel('epoch')\n",
    "plt.legend(['train', 'test'], loc='upper left')\n",
    "plt.show()"
   ]
  },
  {
   "cell_type": "code",
   "execution_count": 11,
   "id": "b9177eec-a6a6-4df2-8659-16f419e5aa97",
   "metadata": {},
   "outputs": [
    {
     "data": {
      "text/plain": [
       "'[start] “ 那 麼 吃 飯 嗎 ？ end  。 end 。 end end 。 。 end end 。 end'"
      ]
     },
     "execution_count": 11,
     "metadata": {},
     "output_type": "execute_result"
    }
   ],
   "source": [
    "decode_sequence('what is that?')"
   ]
  },
  {
   "cell_type": "code",
   "execution_count": 13,
   "id": "4319881e-ff6a-4399-8e91-5e8baed26905",
   "metadata": {},
   "outputs": [
    {
     "data": {
      "text/plain": [
       "'[start] 你 真 抱 歉 意 。 end  道 。 end end 。 end 。 。 end end 。 end'"
      ]
     },
     "execution_count": 13,
     "metadata": {},
     "output_type": "execute_result"
    }
   ],
   "source": [
    "decode_sequence('who are you?')"
   ]
  },
  {
   "cell_type": "code",
   "execution_count": null,
   "id": "0cd511c7-0d5a-4a11-8ca4-7d8293d81a3e",
   "metadata": {},
   "outputs": [],
   "source": []
  }
 ],
 "metadata": {
  "kernelspec": {
   "display_name": "Python 3 (ipykernel)",
   "language": "python",
   "name": "python3"
  },
  "language_info": {
   "codemirror_mode": {
    "name": "ipython",
    "version": 3
   },
   "file_extension": ".py",
   "mimetype": "text/x-python",
   "name": "python",
   "nbconvert_exporter": "python",
   "pygments_lexer": "ipython3",
   "version": "3.9.7"
  }
 },
 "nbformat": 4,
 "nbformat_minor": 5
}
